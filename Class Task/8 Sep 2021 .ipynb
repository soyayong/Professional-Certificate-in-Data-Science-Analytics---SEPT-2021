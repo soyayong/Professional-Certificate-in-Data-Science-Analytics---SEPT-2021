{
 "cells": [
  {
   "cell_type": "code",
   "execution_count": 1,
   "id": "7356d81a-5808-4ea4-8a75-c078c0f63a6e",
   "metadata": {},
   "outputs": [
    {
     "name": "stdout",
     "output_type": "stream",
     "text": [
      "Hello Data Scientist\n"
     ]
    }
   ],
   "source": [
    "print(\"Hello Data Scientist\")"
   ]
  },
  {
   "cell_type": "code",
   "execution_count": null,
   "id": "cda24e0e-193a-4a14-a926-5c19508dc294",
   "metadata": {},
   "outputs": [],
   "source": []
  }
 ],
 "metadata": {
  "kernelspec": {
   "display_name": "Python",
   "language": "python",
   "name": "conda-env-python-py"
  },
  "language_info": {
   "codemirror_mode": {
    "name": "ipython",
    "version": 3
   },
   "file_extension": ".py",
   "mimetype": "text/x-python",
   "name": "python",
   "nbconvert_exporter": "python",
   "pygments_lexer": "ipython3",
   "version": "3.6.13"
  }
 },
 "nbformat": 4,
 "nbformat_minor": 5
}
