{
 "cells": [
  {
   "cell_type": "markdown",
   "id": "e755f8fc-7552-471c-bad1-97a92609a0af",
   "metadata": {},
   "source": [
    "# Python Data Types"
   ]
  },
  {
   "cell_type": "markdown",
   "id": "f3586a13-e906-49a0-85cf-746e6686e7c7",
   "metadata": {},
   "source": [
    "### String\n",
    "### Float\n",
    "### Integer"
   ]
  },
  {
   "cell_type": "code",
   "execution_count": 1,
   "id": "479f2e55-f290-45a5-8e41-e4448d522b70",
   "metadata": {},
   "outputs": [
    {
     "data": {
      "text/plain": [
       "2021"
      ]
     },
     "execution_count": 1,
     "metadata": {},
     "output_type": "execute_result"
    }
   ],
   "source": [
    "'Data Science'\n",
    "88.88\n",
    "2021"
   ]
  },
  {
   "cell_type": "code",
   "execution_count": 2,
   "id": "ec352e29-66fa-4176-8dfc-094a64cab78a",
   "metadata": {},
   "outputs": [
    {
     "name": "stdout",
     "output_type": "stream",
     "text": [
      "<class 'str'>\n",
      "<class 'float'>\n",
      "<class 'int'>\n"
     ]
    }
   ],
   "source": [
    "print(type('Data Science'))\n",
    "print(type(88.88))\n",
    "print(type(2021))"
   ]
  },
  {
   "cell_type": "code",
   "execution_count": 3,
   "id": "2b78b656-ff6f-4d7c-b06c-51cfa958c294",
   "metadata": {},
   "outputs": [
    {
     "data": {
      "text/plain": [
       "str"
      ]
     },
     "execution_count": 3,
     "metadata": {},
     "output_type": "execute_result"
    }
   ],
   "source": [
    "type(\"123DataScience\")"
   ]
  },
  {
   "cell_type": "code",
   "execution_count": 4,
   "id": "1dac2961-0faf-401f-8635-1d3ae71f4afb",
   "metadata": {},
   "outputs": [
    {
     "data": {
      "text/plain": [
       "str"
      ]
     },
     "execution_count": 4,
     "metadata": {},
     "output_type": "execute_result"
    }
   ],
   "source": [
    "type(\"123!#123sfsdasd\")"
   ]
  },
  {
   "cell_type": "code",
   "execution_count": 5,
   "id": "00268e37-f266-41ae-8ea5-50753ea49725",
   "metadata": {},
   "outputs": [
    {
     "name": "stdout",
     "output_type": "stream",
     "text": [
      "88\n"
     ]
    }
   ],
   "source": [
    "print(int(88.88))"
   ]
  },
  {
   "cell_type": "code",
   "execution_count": 6,
   "id": "a80169b6-e9aa-4cc6-82a9-b5c13d5a32ce",
   "metadata": {},
   "outputs": [
    {
     "name": "stdout",
     "output_type": "stream",
     "text": [
      "12.0\n"
     ]
    }
   ],
   "source": [
    "print(float(12))"
   ]
  },
  {
   "cell_type": "code",
   "execution_count": 7,
   "id": "eabbc846-c8ee-4301-a4b3-334dc2292546",
   "metadata": {},
   "outputs": [
    {
     "name": "stdout",
     "output_type": "stream",
     "text": [
      "1.13\n",
      "1.13\n",
      "1.13\n"
     ]
    }
   ],
   "source": [
    "a = 1.1298\n",
    "print(\"%.2f\" % a)\n",
    "print(round(a, 2))\n",
    "print(\"%.2f\" % round(a, 2)) "
   ]
  },
  {
   "cell_type": "markdown",
   "id": "3d0f90c3-1060-43b4-a7b2-b0c2c0db682c",
   "metadata": {},
   "source": [
    "### Boolean Data Types"
   ]
  },
  {
   "cell_type": "code",
   "execution_count": 8,
   "id": "da3e7f62-d5db-41c5-a838-029663722052",
   "metadata": {},
   "outputs": [
    {
     "data": {
      "text/plain": [
       "False"
      ]
     },
     "execution_count": 8,
     "metadata": {},
     "output_type": "execute_result"
    }
   ],
   "source": [
    "True\n",
    "False"
   ]
  },
  {
   "cell_type": "code",
   "execution_count": 9,
   "id": "e7ba97f0-ff3f-484d-ae6f-22c02bcadb04",
   "metadata": {},
   "outputs": [
    {
     "data": {
      "text/plain": [
       "bool"
      ]
     },
     "execution_count": 9,
     "metadata": {},
     "output_type": "execute_result"
    }
   ],
   "source": [
    "type(True)"
   ]
  },
  {
   "cell_type": "markdown",
   "id": "11263312-cb91-42cd-9490-e84ed631dce6",
   "metadata": {},
   "source": [
    "### Expressions, Variable, Conditions"
   ]
  },
  {
   "cell_type": "markdown",
   "id": "1e5e71dc-4817-480b-a1f5-43ae993476db",
   "metadata": {},
   "source": [
    "<ul>\n",
    "    <li>subtraction: <b>-</b></li>\n",
    "    <li>addition: <b>+</b></li>\n",
    "    <li>division: <b>/</b></li>\n",
    "    <li>floor division <b>//</b></li>\n",
    "    <li>multiplication: <b>*</b></li>\n",
    "    <li>modulus: <b>%</b></li>\n",
    "    <li>exponent: <b>**</b></li>\n",
    "</ul>"
   ]
  },
  {
   "cell_type": "code",
   "execution_count": 10,
   "id": "9d95a45d-de71-4fea-84c9-2a78f0fcbf08",
   "metadata": {},
   "outputs": [
    {
     "name": "stdout",
     "output_type": "stream",
     "text": [
      "98\n"
     ]
    }
   ],
   "source": [
    "a = 100\n",
    "b = 2\n",
    "c = a - b\n",
    "\n",
    "print(c)"
   ]
  },
  {
   "cell_type": "code",
   "execution_count": 11,
   "id": "7b8f3212-79d8-44f4-95d6-939e68d9231a",
   "metadata": {},
   "outputs": [
    {
     "data": {
      "text/plain": [
       "98"
      ]
     },
     "execution_count": 11,
     "metadata": {},
     "output_type": "execute_result"
    }
   ],
   "source": [
    "c"
   ]
  },
  {
   "cell_type": "code",
   "execution_count": 12,
   "id": "866307bb-cc3b-4525-bfbb-509fac4bf14f",
   "metadata": {},
   "outputs": [],
   "source": [
    "c = a + b"
   ]
  },
  {
   "cell_type": "code",
   "execution_count": 13,
   "id": "1741809a-16db-4735-83fe-793b0ede3bec",
   "metadata": {},
   "outputs": [
    {
     "data": {
      "text/plain": [
       "102"
      ]
     },
     "execution_count": 13,
     "metadata": {},
     "output_type": "execute_result"
    }
   ],
   "source": [
    "c"
   ]
  },
  {
   "cell_type": "code",
   "execution_count": 14,
   "id": "aa60fe78-ce0a-4da5-b1f3-d930e4a91526",
   "metadata": {},
   "outputs": [],
   "source": [
    "c = a/b"
   ]
  },
  {
   "cell_type": "code",
   "execution_count": 15,
   "id": "dcd9bc5d-384f-4a68-851d-264921f2f67c",
   "metadata": {},
   "outputs": [
    {
     "data": {
      "text/plain": [
       "50.0"
      ]
     },
     "execution_count": 15,
     "metadata": {},
     "output_type": "execute_result"
    }
   ],
   "source": [
    "c"
   ]
  },
  {
   "cell_type": "code",
   "execution_count": 16,
   "id": "66a61c06-cb3b-4daf-99ad-15d423dc0405",
   "metadata": {},
   "outputs": [
    {
     "data": {
      "text/plain": [
       "33.333333333333336"
      ]
     },
     "execution_count": 16,
     "metadata": {},
     "output_type": "execute_result"
    }
   ],
   "source": [
    "100/3"
   ]
  },
  {
   "cell_type": "code",
   "execution_count": 17,
   "id": "6669d343-501b-42f0-87fc-ab7738aba246",
   "metadata": {},
   "outputs": [
    {
     "data": {
      "text/plain": [
       "3"
      ]
     },
     "execution_count": 17,
     "metadata": {},
     "output_type": "execute_result"
    }
   ],
   "source": [
    "10//3"
   ]
  },
  {
   "cell_type": "code",
   "execution_count": 18,
   "id": "5a1c7e23-4c8f-4f8c-9eb3-e23bb19ec71e",
   "metadata": {},
   "outputs": [
    {
     "data": {
      "text/plain": [
       "200"
      ]
     },
     "execution_count": 18,
     "metadata": {},
     "output_type": "execute_result"
    }
   ],
   "source": [
    "c = a*b\n",
    "c"
   ]
  },
  {
   "cell_type": "code",
   "execution_count": 19,
   "id": "0de74c95-1299-4f55-8185-965fc5432582",
   "metadata": {},
   "outputs": [
    {
     "data": {
      "text/plain": [
       "1"
      ]
     },
     "execution_count": 19,
     "metadata": {},
     "output_type": "execute_result"
    }
   ],
   "source": [
    "13%2"
   ]
  },
  {
   "cell_type": "code",
   "execution_count": 20,
   "id": "ae35ff4f-e24b-43cf-8afd-9bee3502cc7a",
   "metadata": {},
   "outputs": [
    {
     "data": {
      "text/plain": [
       "0"
      ]
     },
     "execution_count": 20,
     "metadata": {},
     "output_type": "execute_result"
    }
   ],
   "source": [
    "14%2"
   ]
  },
  {
   "cell_type": "code",
   "execution_count": 21,
   "id": "a83c4963-9c46-43fb-a353-327b88085157",
   "metadata": {},
   "outputs": [
    {
     "data": {
      "text/plain": [
       "1000"
      ]
     },
     "execution_count": 21,
     "metadata": {},
     "output_type": "execute_result"
    }
   ],
   "source": [
    "10 ** 3"
   ]
  },
  {
   "cell_type": "code",
   "execution_count": 22,
   "id": "db01762e-c3d7-4e69-9fcb-807f70549094",
   "metadata": {},
   "outputs": [
    {
     "name": "stdout",
     "output_type": "stream",
     "text": [
      "Variable   Type    Data/Info\n",
      "----------------------------\n",
      "a          int     100\n",
      "b          int     2\n",
      "c          int     200\n"
     ]
    }
   ],
   "source": [
    "%whos"
   ]
  },
  {
   "cell_type": "code",
   "execution_count": 23,
   "id": "e1041fd7-1829-4ada-add9-ae70fefb701f",
   "metadata": {},
   "outputs": [],
   "source": [
    "d = \"hello python\"\n",
    "a = 8.8"
   ]
  },
  {
   "cell_type": "code",
   "execution_count": 24,
   "id": "846c4769-9bba-4d7f-8bf5-9b79a9f2dba6",
   "metadata": {},
   "outputs": [
    {
     "name": "stdout",
     "output_type": "stream",
     "text": [
      "Variable   Type     Data/Info\n",
      "-----------------------------\n",
      "a          float    8.8\n",
      "b          int      2\n",
      "c          int      200\n",
      "d          str      hello python\n"
     ]
    }
   ],
   "source": [
    "%whos"
   ]
  },
  {
   "cell_type": "markdown",
   "id": "a4811ef1-590f-499b-8902-ee276abe19e9",
   "metadata": {},
   "source": [
    "### Conditions\n",
    "<ul>\n",
    "    <li>equal: <b>==</b></li>\n",
    "    <li>not equal: <b>!=</b></li>\n",
    "    <li>greater than: <b>></b></li>\n",
    "    <li>less than: <b>&lt;</b></li>\n",
    "    <li>greater than or equal to: <b>>=</b></li>\n",
    "    <li>less than or equal to: <b>&lt;=</b></li>\n",
    "</ul>"
   ]
  },
  {
   "cell_type": "code",
   "execution_count": 25,
   "id": "6beeef59-e00e-4dd3-9326-466b19041ca5",
   "metadata": {},
   "outputs": [],
   "source": [
    "a = 10"
   ]
  },
  {
   "cell_type": "code",
   "execution_count": 26,
   "id": "aeffa311-55e8-418f-905f-f1836f1f8f26",
   "metadata": {},
   "outputs": [
    {
     "data": {
      "text/plain": [
       "True"
      ]
     },
     "execution_count": 26,
     "metadata": {},
     "output_type": "execute_result"
    }
   ],
   "source": [
    "a == 10"
   ]
  },
  {
   "cell_type": "code",
   "execution_count": 27,
   "id": "9061ba34-0fa1-43f8-b3aa-3f292501aa26",
   "metadata": {},
   "outputs": [
    {
     "data": {
      "text/plain": [
       "False"
      ]
     },
     "execution_count": 27,
     "metadata": {},
     "output_type": "execute_result"
    }
   ],
   "source": [
    "a == 11"
   ]
  },
  {
   "cell_type": "code",
   "execution_count": 28,
   "id": "784f3323-64d7-423d-912d-aa8ec5579a4d",
   "metadata": {},
   "outputs": [
    {
     "data": {
      "text/plain": [
       "True"
      ]
     },
     "execution_count": 28,
     "metadata": {},
     "output_type": "execute_result"
    }
   ],
   "source": [
    "a < 11"
   ]
  },
  {
   "cell_type": "code",
   "execution_count": 29,
   "id": "7d349e36-db5d-457a-8005-c1aa3b20dcfd",
   "metadata": {},
   "outputs": [
    {
     "data": {
      "text/plain": [
       "True"
      ]
     },
     "execution_count": 29,
     "metadata": {},
     "output_type": "execute_result"
    }
   ],
   "source": [
    "a > 9 "
   ]
  },
  {
   "cell_type": "code",
   "execution_count": 30,
   "id": "d40c56d3-a300-4c5f-9537-5bd5a5c41736",
   "metadata": {},
   "outputs": [
    {
     "data": {
      "text/plain": [
       "True"
      ]
     },
     "execution_count": 30,
     "metadata": {},
     "output_type": "execute_result"
    }
   ],
   "source": [
    "a != 11"
   ]
  },
  {
   "cell_type": "code",
   "execution_count": 31,
   "id": "aa083a84-61b4-4dd7-9a77-2eaf5b42edea",
   "metadata": {},
   "outputs": [
    {
     "data": {
      "text/plain": [
       "int"
      ]
     },
     "execution_count": 31,
     "metadata": {},
     "output_type": "execute_result"
    }
   ],
   "source": [
    "number = 999\n",
    "type(number)"
   ]
  },
  {
   "cell_type": "code",
   "execution_count": 32,
   "id": "c322ea08-1e6c-4fbd-92cb-7867f72b10e7",
   "metadata": {},
   "outputs": [
    {
     "data": {
      "text/plain": [
       "True"
      ]
     },
     "execution_count": 32,
     "metadata": {},
     "output_type": "execute_result"
    }
   ],
   "source": [
    "number == 999"
   ]
  },
  {
   "cell_type": "code",
   "execution_count": 33,
   "id": "b486621c-416a-444f-9dd3-3dd06f81de17",
   "metadata": {},
   "outputs": [
    {
     "data": {
      "text/plain": [
       "1000"
      ]
     },
     "execution_count": 33,
     "metadata": {},
     "output_type": "execute_result"
    }
   ],
   "source": [
    "adding = number + 1\n",
    "adding "
   ]
  },
  {
   "cell_type": "markdown",
   "id": "fedeeb4a-08e3-44fc-9538-e8b14970e7c1",
   "metadata": {},
   "source": [
    "### String indexing"
   ]
  },
  {
   "cell_type": "code",
   "execution_count": 34,
   "id": "8fda7342-3512-4b6f-9126-2f9c9d87552c",
   "metadata": {},
   "outputs": [
    {
     "name": "stdout",
     "output_type": "stream",
     "text": [
      "Michael Jackson\n"
     ]
    }
   ],
   "source": [
    "singer = \"Michael Jackson\"\n",
    "print(singer)"
   ]
  },
  {
   "cell_type": "code",
   "execution_count": 35,
   "id": "61b21ef3-1576-4da0-9a0c-cebfe66adeec",
   "metadata": {},
   "outputs": [
    {
     "data": {
      "text/plain": [
       "str"
      ]
     },
     "execution_count": 35,
     "metadata": {},
     "output_type": "execute_result"
    }
   ],
   "source": [
    "type(singer)"
   ]
  },
  {
   "cell_type": "code",
   "execution_count": 36,
   "id": "90c7c587-ace2-4e92-b692-e684251e332c",
   "metadata": {},
   "outputs": [
    {
     "name": "stdout",
     "output_type": "stream",
     "text": [
      "M\n",
      "e\n",
      "c\n",
      "o\n",
      "n\n"
     ]
    }
   ],
   "source": [
    "print(singer[0])\n",
    "print(singer[5])\n",
    "print(singer[10])\n",
    "print(singer[13])\n",
    "print(singer[-1])"
   ]
  },
  {
   "cell_type": "markdown",
   "id": "8dfe7246-d449-4975-878a-7bd6d4ec77f6",
   "metadata": {},
   "source": [
    "<img src=\"https://s3-api.us-geo.objectstorage.softlayer.net/cf-courses-data/CognitiveClass/PY0101EN/Chapter%201/Images/StringsIndex.png\" width=\"600\" align=\"center\" />\n"
   ]
  },
  {
   "cell_type": "markdown",
   "id": "b7c43a9e-39a7-4945-b206-c0a83bf085a4",
   "metadata": {},
   "source": [
    "<img src=\"https://s3-api.us-geo.objectstorage.softlayer.net/cf-courses-data/CognitiveClass/PY0101EN/Chapter%201/Images/StringsNeg.png\" width=\"600\" align=\"center\" />\n"
   ]
  },
  {
   "cell_type": "code",
   "execution_count": 37,
   "id": "dcf9a4f6-a4c7-4741-ab38-0da4de2428bd",
   "metadata": {},
   "outputs": [
    {
     "name": "stdout",
     "output_type": "stream",
     "text": [
      "14\n"
     ]
    }
   ],
   "source": [
    "print(len(singer) -1)"
   ]
  },
  {
   "cell_type": "code",
   "execution_count": 38,
   "id": "50ad4796-a63a-4b1b-a0cf-9fe9d6c39a0d",
   "metadata": {},
   "outputs": [
    {
     "name": "stdout",
     "output_type": "stream",
     "text": [
      "n\n"
     ]
    }
   ],
   "source": [
    "print(singer[-1])"
   ]
  },
  {
   "cell_type": "code",
   "execution_count": 44,
   "id": "eb1ec561-da61-46c2-a247-54b55c7d19a1",
   "metadata": {},
   "outputs": [
    {
     "name": "stdout",
     "output_type": "stream",
     "text": [
      "Data\n",
      "Data\n",
      "Science\n"
     ]
    }
   ],
   "source": [
    "# string slicing\n",
    "course = 'Data Science and Analytics'\n",
    "\n",
    "print(course[:4])\n",
    "print(course[0:4])\n",
    "print(course[5:12])"
   ]
  },
  {
   "cell_type": "code",
   "execution_count": 45,
   "id": "8b66cbb6-cfbb-4149-96ee-b36455938fea",
   "metadata": {},
   "outputs": [
    {
     "name": "stdout",
     "output_type": "stream",
     "text": [
      "Data Science and Analytics\n"
     ]
    }
   ],
   "source": [
    "print(course[:])"
   ]
  },
  {
   "cell_type": "code",
   "execution_count": 46,
   "id": "3939b6ba-44fc-4867-bc16-cbe7468c4979",
   "metadata": {},
   "outputs": [
    {
     "name": "stdout",
     "output_type": "stream",
     "text": [
      "D e  lc\n"
     ]
    }
   ],
   "source": [
    "print(course[::4])"
   ]
  },
  {
   "cell_type": "code",
   "execution_count": 47,
   "id": "9485e727-40ff-4de2-b9db-85fec8769a42",
   "metadata": {},
   "outputs": [
    {
     "name": "stdout",
     "output_type": "stream",
     "text": [
      "Dt cec\n"
     ]
    }
   ],
   "source": [
    "print(course[:12:2])"
   ]
  },
  {
   "cell_type": "code",
   "execution_count": 48,
   "id": "8c8f09b1-5599-43ed-93f0-af49e906cc34",
   "metadata": {},
   "outputs": [
    {
     "name": "stdout",
     "output_type": "stream",
     "text": [
      "Data Science and Analytics\n"
     ]
    }
   ],
   "source": [
    "print(course[::1])"
   ]
  },
  {
   "cell_type": "code",
   "execution_count": 53,
   "id": "0235b9e4-5948-4eac-9298-64628305fad1",
   "metadata": {},
   "outputs": [
    {
     "name": "stdout",
     "output_type": "stream",
     "text": [
      "Dacn dnyc\n"
     ]
    }
   ],
   "source": [
    "print(course[::3])"
   ]
  },
  {
   "cell_type": "code",
   "execution_count": 54,
   "id": "5cc5614e-b387-4ef8-8e47-c31d4671c741",
   "metadata": {},
   "outputs": [
    {
     "name": "stdout",
     "output_type": "stream",
     "text": [
      "D e  lc\n"
     ]
    }
   ],
   "source": [
    "print(course[::4])"
   ]
  },
  {
   "cell_type": "code",
   "execution_count": 55,
   "id": "f7e268e4-94af-45f7-88e0-12099708b6a9",
   "metadata": {},
   "outputs": [
    {
     "name": "stdout",
     "output_type": "stream",
     "text": [
      "D e\n"
     ]
    }
   ],
   "source": [
    "print(course[0:10:4])"
   ]
  },
  {
   "cell_type": "code",
   "execution_count": 56,
   "id": "b7127141-8e8a-4363-8e92-1b5d4fa6f4ef",
   "metadata": {},
   "outputs": [
    {
     "name": "stdout",
     "output_type": "stream",
     "text": [
      "tSe\n"
     ]
    }
   ],
   "source": [
    "print(course[2:10:3])"
   ]
  },
  {
   "cell_type": "code",
   "execution_count": 58,
   "id": "548fbc51-757b-4486-aa07-049f2422e931",
   "metadata": {},
   "outputs": [
    {
     "name": "stdout",
     "output_type": "stream",
     "text": [
      "Data Science\n"
     ]
    }
   ],
   "source": [
    "# Concatenate Strings\n",
    "a = \"Data\"\n",
    "b = \"Science\"\n",
    "c = a + \" \" + b\n",
    "print(c)"
   ]
  },
  {
   "cell_type": "markdown",
   "id": "39dd3d89-2027-428d-b81e-b1fa3983c0a6",
   "metadata": {},
   "source": [
    "### Data Structure\n",
    "\n",
    "#### List []\n",
    "#### Tuple ()\n",
    "#### Dictionary {} --call curly bracket\n",
    "#### Set{}\n"
   ]
  },
  {
   "cell_type": "code",
   "execution_count": 73,
   "id": "e948b86a-1536-4f01-b1a2-456f37e5207f",
   "metadata": {},
   "outputs": [
    {
     "name": "stdout",
     "output_type": "stream",
     "text": [
      "<class 'list'> --> [1, 2, 88, 'Data', 9.9, 3]\n",
      "<class 'tuple'> --> (1, 2, 88, 'Data', 9.9, 3)\n",
      "<class 'set'> --> {1, 2, 3, 9.9, 'Data', 88}\n"
     ]
    }
   ],
   "source": [
    "list1 = [1, 2, 88, \"Data\", 9.9, 3]\n",
    "print(f\"{type(list1)} --> {list1}\")\n",
    "\n",
    "tuple1 = (1, 2, 88, \"Data\", 9.9, 3)\n",
    "print(f\"{type(tuple1)} --> {tuple1}\")\n",
    "\n",
    "set1 = {1, 2, 88, \"Data\", 9.9, 3}\n",
    "print(f\"{type(set1)} --> {set1}\")"
   ]
  },
  {
   "cell_type": "code",
   "execution_count": 74,
   "id": "06f42428-85d4-430c-9164-52b52f3baa61",
   "metadata": {},
   "outputs": [
    {
     "name": "stdout",
     "output_type": "stream",
     "text": [
      "88\n"
     ]
    }
   ],
   "source": [
    "# list\n",
    "list1 = [1, 2, 88, \"Data\", 9.9, 3]\n",
    "\n",
    "print(list1[2])"
   ]
  },
  {
   "cell_type": "code",
   "execution_count": 77,
   "id": "1d4ef509-7b52-4c0e-9d6d-71f018400907",
   "metadata": {},
   "outputs": [
    {
     "name": "stdout",
     "output_type": "stream",
     "text": [
      "[1, 2, 88, 'Data', [22, 4.9, 'Python'], 9.9, 3, 'big data', 2021]\n"
     ]
    }
   ],
   "source": [
    "# nested list\n",
    "list1 = [1, 2, 88, \"Data\", [22, 4.9, 'Python'], 9.9, 3]\n",
    "\n",
    "# extent, poop\n",
    "list1.extend([\"big data\", 2021])\n",
    "\n",
    "print(list1)"
   ]
  },
  {
   "cell_type": "code",
   "execution_count": 78,
   "id": "46aa8e1e-2f15-4456-ac99-fdd711fb619d",
   "metadata": {},
   "outputs": [
    {
     "name": "stdout",
     "output_type": "stream",
     "text": [
      "[1, 2, 88, 'Data', [22, 4.9, 'Python'], 9.9, 3, 'big data', 2021, ['Analytics', '123']]\n"
     ]
    }
   ],
   "source": [
    "list1.append([\"Analytics\",'123'])\n",
    "print(list1)"
   ]
  },
  {
   "cell_type": "code",
   "execution_count": 79,
   "id": "22ba7bff-dd17-44a2-b2b3-95d3bd6ee5df",
   "metadata": {},
   "outputs": [
    {
     "data": {
      "text/plain": [
       "[1,\n",
       " 88,\n",
       " 'Data',\n",
       " [22, 4.9, 'Python'],\n",
       " 9.9,\n",
       " 3,\n",
       " 'big data',\n",
       " 2021,\n",
       " ['Analytics', '123']]"
      ]
     },
     "execution_count": 79,
     "metadata": {},
     "output_type": "execute_result"
    }
   ],
   "source": [
    "del(list1[1])\n",
    "list1"
   ]
  },
  {
   "cell_type": "code",
   "execution_count": 80,
   "id": "c498c65c-5832-4611-b374-d76730ca55d1",
   "metadata": {},
   "outputs": [
    {
     "data": {
      "text/plain": [
       "[[22, 4.9, 'Python'], 9.9, 3, 'big data', 2021, ['Analytics', '123']]"
      ]
     },
     "execution_count": 80,
     "metadata": {},
     "output_type": "execute_result"
    }
   ],
   "source": [
    "del(list1[0:3])\n",
    "list1"
   ]
  },
  {
   "cell_type": "code",
   "execution_count": 82,
   "id": "91028cb1-d9cc-4bf7-9830-2e3a26f72ec0",
   "metadata": {},
   "outputs": [
    {
     "name": "stdout",
     "output_type": "stream",
     "text": [
      "Data\n",
      "('Data', 9.9, 3)\n"
     ]
    }
   ],
   "source": [
    "# Tuple\n",
    "tuple1 = (1, 2, 88, \"Data\", 9.9, 3)\n",
    "\n",
    "print(tuple1[3])\n",
    "print(tuple1[3:6])"
   ]
  },
  {
   "cell_type": "code",
   "execution_count": 83,
   "id": "34301909-a7f4-4c6f-92bb-134e439bb2b7",
   "metadata": {},
   "outputs": [
    {
     "name": "stdout",
     "output_type": "stream",
     "text": [
      "(1, 2, 88, 'Data', 9.9, 3, ('Big Data', 2021))\n"
     ]
    }
   ],
   "source": [
    "tuple2 = (1, 2, 88, \"Data\", 9.9, 3, (\"Big Data\", 2021))\n",
    "print(tuple2)"
   ]
  },
  {
   "cell_type": "code",
   "execution_count": 85,
   "id": "78025b26-4bee-45eb-af15-1f537e6a3e7c",
   "metadata": {},
   "outputs": [
    {
     "name": "stdout",
     "output_type": "stream",
     "text": [
      "(1, 2, 88, 'Data', 9.9, 3, ('Big Data', 2021), [1, 2, 3])\n"
     ]
    }
   ],
   "source": [
    "tuple3 = (1, 2, 88, \"Data\", 9.9, 3, (\"Big Data\", 2021), [1, 2, 3])\n",
    "print(tuple3)"
   ]
  },
  {
   "cell_type": "code",
   "execution_count": 87,
   "id": "6f7ead46-7898-471d-83e1-16752e21375a",
   "metadata": {},
   "outputs": [
    {
     "name": "stdout",
     "output_type": "stream",
     "text": [
      "[5, 7, 9]\n"
     ]
    }
   ],
   "source": [
    "#list vs turple\n",
    "\n",
    "l1 = [3, 5, 7, 9]\n",
    "\n",
    "del(l1[0])\n",
    "\n",
    "print(l1)\n",
    "\n"
   ]
  },
  {
   "cell_type": "code",
   "execution_count": 90,
   "id": "87d41155-9f03-43bf-8d95-67d62eb293a0",
   "metadata": {},
   "outputs": [],
   "source": [
    "# t1 = (3, 5, 7, 9)\n",
    "\n",
    "# del(t1[0])\n",
    "\n",
    "# print(t1)\n"
   ]
  },
  {
   "cell_type": "code",
   "execution_count": 91,
   "id": "3067c1e1-d826-41d8-aaa4-f95c4fcd9eb3",
   "metadata": {},
   "outputs": [
    {
     "name": "stdout",
     "output_type": "stream",
     "text": [
      "(3, 5, 7, 9, 11, 13)\n"
     ]
    }
   ],
   "source": [
    "t1 = (3, 5, 7, 9)\n",
    "\n",
    "t2 = t1 + (11, 13)\n",
    "print(t2)"
   ]
  },
  {
   "cell_type": "code",
   "execution_count": 93,
   "id": "fdba06ba-4023-446a-b75d-10710710c69b",
   "metadata": {},
   "outputs": [
    {
     "name": "stdout",
     "output_type": "stream",
     "text": [
      "{200, 88, 99, 25}\n"
     ]
    }
   ],
   "source": [
    "# set\n",
    "s1 = {200, 99, 88, 200, 25, 88}\n",
    "s1\n",
    "print(s1)"
   ]
  },
  {
   "cell_type": "code",
   "execution_count": 94,
   "id": "0509ab9e-8a17-47c8-b890-d6c695dcc0cb",
   "metadata": {},
   "outputs": [
    {
     "data": {
      "text/plain": [
       "{25, 88, 99, 200}"
      ]
     },
     "execution_count": 94,
     "metadata": {},
     "output_type": "execute_result"
    }
   ],
   "source": [
    "s1"
   ]
  },
  {
   "cell_type": "code",
   "execution_count": 101,
   "id": "fe545d5f-139d-4ce5-8394-b9f9b507b1ea",
   "metadata": {},
   "outputs": [
    {
     "name": "stdout",
     "output_type": "stream",
     "text": [
      "0123456789abcdefghijklmnopqrstuvwxyzABCDEFGHIJKLMNOPQRSTUVWXYZ!\"#$%&'()*+,-./:;<=>?@[\\]^_`{|}~ \t\n",
      "\u000b",
      "\f",
      "\n",
      "ABCDEFGHIJKLMNOPQRSTUVWXYZ\n"
     ]
    }
   ],
   "source": [
    "import string\n",
    "\n",
    "\n",
    "data1 = string.printable\n",
    "data2 = string.ascii_uppercase\n",
    "\n",
    "print(data1)\n",
    "print(data2)\n",
    "\n",
    "# characters = list(map(chr, data2))\n",
    "# print(characters)"
   ]
  },
  {
   "cell_type": "code",
   "execution_count": 100,
   "id": "5fbc8870-18f5-43e8-9e15-1d3f1a7d3558",
   "metadata": {},
   "outputs": [
    {
     "data": {
      "text/plain": [
       "{25, 75, 88, 99, 200}"
      ]
     },
     "execution_count": 100,
     "metadata": {},
     "output_type": "execute_result"
    }
   ],
   "source": [
    "s1.add(75)\n",
    "s1"
   ]
  },
  {
   "cell_type": "code",
   "execution_count": 106,
   "id": "1f4617dd-b37e-48d2-b49e-4483044a64df",
   "metadata": {},
   "outputs": [
    {
     "data": {
      "text/plain": [
       "(11, 22, 33, 44, 55, 66, 99, 88)"
      ]
     },
     "execution_count": 106,
     "metadata": {},
     "output_type": "execute_result"
    }
   ],
   "source": [
    "t3 = (11, 22, 33, 44, 55, 66, 99, 88)\n",
    "t3\n"
   ]
  },
  {
   "cell_type": "code",
   "execution_count": 107,
   "id": "58e4b4bd-b09d-45c5-b4e2-64271feacaac",
   "metadata": {},
   "outputs": [
    {
     "data": {
      "text/plain": [
       "tuple"
      ]
     },
     "execution_count": 107,
     "metadata": {},
     "output_type": "execute_result"
    }
   ],
   "source": [
    "type(t3)"
   ]
  },
  {
   "cell_type": "code",
   "execution_count": 108,
   "id": "9203fa3a-dba3-40e3-abc0-778adebc015d",
   "metadata": {},
   "outputs": [
    {
     "data": {
      "text/plain": [
       "[11, 22, 33, 44, 55, 66, 88, 99]"
      ]
     },
     "execution_count": 108,
     "metadata": {},
     "output_type": "execute_result"
    }
   ],
   "source": [
    "sortt3 = sorted(t3)\n",
    "sortt3"
   ]
  },
  {
   "cell_type": "code",
   "execution_count": 109,
   "id": "1f853b6a-86f8-4a33-a19a-1864ed53e95f",
   "metadata": {},
   "outputs": [
    {
     "data": {
      "text/plain": [
       "list"
      ]
     },
     "execution_count": 109,
     "metadata": {},
     "output_type": "execute_result"
    }
   ],
   "source": [
    "type(sortt3)"
   ]
  },
  {
   "cell_type": "code",
   "execution_count": 110,
   "id": "aa603fe2-6c11-488f-8ffc-9e76ad60410d",
   "metadata": {},
   "outputs": [
    {
     "name": "stdout",
     "output_type": "stream",
     "text": [
      "ABCDEFGHIJKLMNOPQRSTUVWXYZ\n",
      "abcdefghijklmnopqrstuvwxyz\n",
      "0123456789\n",
      "!\"#$%&'()*+,-./:;<=>?@[\\]^_`{|}~\n"
     ]
    }
   ],
   "source": [
    "import string\n",
    "\n",
    "cap_letters = string.printable[36:62]\n",
    "low_letters = string.printable[10:36]\n",
    "numbers = string.printable[:10]\n",
    "symbols = string.printable[62:94]\n",
    "\n",
    "print(cap_letters)\n",
    "print(low_letters)\n",
    "print(numbers)\n",
    "print(symbols)"
   ]
  },
  {
   "cell_type": "code",
   "execution_count": 3,
   "id": "53d206f8-b2d2-4740-ba0b-36a2eb5c02aa",
   "metadata": {},
   "outputs": [
    {
     "data": {
      "text/plain": [
       "{'k1': 123, 'k2': 'Data', 'k3': 8.8}"
      ]
     },
     "execution_count": 3,
     "metadata": {},
     "output_type": "execute_result"
    }
   ],
   "source": [
    "# Dictonary{}\n",
    "\n",
    "d1 = {'k1':123, 'k2':'Data', 'k3':8.8}\n",
    "\n",
    "d1"
   ]
  },
  {
   "cell_type": "code",
   "execution_count": 4,
   "id": "fabdb166-4e41-46d2-8ca9-d1ebed0f5e70",
   "metadata": {},
   "outputs": [
    {
     "data": {
      "text/plain": [
       "dict"
      ]
     },
     "execution_count": 4,
     "metadata": {},
     "output_type": "execute_result"
    }
   ],
   "source": [
    "type(d1)"
   ]
  },
  {
   "cell_type": "code",
   "execution_count": 5,
   "id": "0df11dce-d50f-413c-8598-4b962e0afd34",
   "metadata": {},
   "outputs": [
    {
     "data": {
      "text/plain": [
       "{(1, 2): [2021, 2030], 12345: ('Data', 99.5)}"
      ]
     },
     "execution_count": 5,
     "metadata": {},
     "output_type": "execute_result"
    }
   ],
   "source": [
    "d2 = {(1, 2):[2021, 2030], 12345:('Data', 99.5)}\n",
    "\n",
    "d2"
   ]
  },
  {
   "cell_type": "code",
   "execution_count": 6,
   "id": "1d4ae46c-a504-408e-ab6c-ec86ed624a4b",
   "metadata": {},
   "outputs": [
    {
     "data": {
      "text/plain": [
       "dict"
      ]
     },
     "execution_count": 6,
     "metadata": {},
     "output_type": "execute_result"
    }
   ],
   "source": [
    "type(d2)"
   ]
  },
  {
   "cell_type": "code",
   "execution_count": 7,
   "id": "64b21df1-ab2f-415f-b987-97c0e1ec1fcc",
   "metadata": {},
   "outputs": [
    {
     "name": "stdout",
     "output_type": "stream",
     "text": [
      "[2021, 2030]\n"
     ]
    }
   ],
   "source": [
    "print(d2[(1, 2)])"
   ]
  },
  {
   "cell_type": "code",
   "execution_count": 8,
   "id": "32474c16-9c16-4305-8d46-5fa08f70a806",
   "metadata": {},
   "outputs": [
    {
     "name": "stdout",
     "output_type": "stream",
     "text": [
      "8.8\n"
     ]
    }
   ],
   "source": [
    "print(d1['k3'])"
   ]
  },
  {
   "cell_type": "code",
   "execution_count": 9,
   "id": "92b92b0a-034a-46c7-b14c-aeef93bfc802",
   "metadata": {},
   "outputs": [
    {
     "data": {
      "text/plain": [
       "dict_keys([(1, 2), 12345])"
      ]
     },
     "execution_count": 9,
     "metadata": {},
     "output_type": "execute_result"
    }
   ],
   "source": [
    "d2.keys()"
   ]
  },
  {
   "cell_type": "code",
   "execution_count": 10,
   "id": "49efc651-6969-4fa2-a0ab-7c53e8ad4399",
   "metadata": {},
   "outputs": [
    {
     "data": {
      "text/plain": [
       "dict_keys(['k1', 'k2', 'k3'])"
      ]
     },
     "execution_count": 10,
     "metadata": {},
     "output_type": "execute_result"
    }
   ],
   "source": [
    "d1.keys()"
   ]
  },
  {
   "cell_type": "code",
   "execution_count": 2,
   "id": "fb07ec0b-c54f-4510-a5e4-b9eb9e990a21",
   "metadata": {},
   "outputs": [
    {
     "name": "stdout",
     "output_type": "stream",
     "text": [
      "Age is above 16\n"
     ]
    }
   ],
   "source": [
    "# Branching\n",
    "# if statement\n",
    "# elif statement\n",
    "# else statement\n",
    "\n",
    "age = 18\n",
    "\n",
    "if age > 16:\n",
    "    print(\"Age is above 16\")"
   ]
  },
  {
   "cell_type": "code",
   "execution_count": 11,
   "id": "0699e069-7428-450b-83c1-f050a41541f9",
   "metadata": {},
   "outputs": [
    {
     "name": "stdout",
     "output_type": "stream",
     "text": [
      "Age is not above 16\n"
     ]
    }
   ],
   "source": [
    "age = 15\n",
    "\n",
    "if age > 16:\n",
    "    print(\"Age is above 16\")\n",
    "else:\n",
    "    print(\"Age is not above 16\")"
   ]
  },
  {
   "cell_type": "code",
   "execution_count": 12,
   "id": "6882c60b-6ef2-4727-8369-3e2c38576862",
   "metadata": {
    "jupyter": {
     "source_hidden": true
    },
    "tags": []
   },
   "outputs": [
    {
     "name": "stdout",
     "output_type": "stream",
     "text": [
      "Age is 15\n"
     ]
    }
   ],
   "source": [
    "age = 15\n",
    "\n",
    "if age > 16:\n",
    "    print(\"Age is above 16\")\n",
    "elif age == 15:\n",
    "    print(\"Age is 15\")\n",
    "else:\n",
    "    print(\"Age is not above 16\")"
   ]
  },
  {
   "cell_type": "code",
   "execution_count": 13,
   "id": "efab3afd-6006-4d32-909c-7b0a60af01e4",
   "metadata": {},
   "outputs": [
    {
     "name": "stdout",
     "output_type": "stream",
     "text": [
      "Age is 15\n"
     ]
    }
   ],
   "source": [
    "age = 15\n",
    "\n",
    "if age > 16:\n",
    "    print(\"Age is above 16\")\n",
    "elif age != 15:\n",
    "    print(\"Age is not 15\")\n",
    "elif age == 15:\n",
    "    print(\"Age is 15\")\n",
    "else:\n",
    "    print(\"Age is not above 16\")"
   ]
  },
  {
   "cell_type": "code",
   "execution_count": 17,
   "id": "a2904c10-55aa-4e19-8b30-9c7a14670b1a",
   "metadata": {},
   "outputs": [
    {
     "name": "stdout",
     "output_type": "stream",
     "text": [
      "no indent\n"
     ]
    }
   ],
   "source": [
    "age = 15\n",
    "\n",
    "if age > 16:\n",
    "    print(\"Age is above 16\")\n",
    "    print(\"indent\")\n",
    "print(\"no indent\")"
   ]
  },
  {
   "cell_type": "markdown",
   "id": "7b66e158-c2c6-48c9-a223-fcea2889fbde",
   "metadata": {},
   "source": [
    "<img src=\"https://s3-api.us-geo.objectstorage.softlayer.net/cf-courses-data/CognitiveClass/PY0101EN/Chapter%203/Images/CondsTable.png\" width=\"650\" />"
   ]
  },
  {
   "cell_type": "code",
   "execution_count": 15,
   "id": "346d5164-cf98-416c-9dd7-8be5a846112f",
   "metadata": {},
   "outputs": [
    {
     "name": "stdout",
     "output_type": "stream",
     "text": [
      "Age is above 16\n"
     ]
    }
   ],
   "source": [
    "age = 15\n",
    "\n",
    "if age > 16 or age == 15:\n",
    "    print(\"Age is above 16\")\n",
    "elif age != 15:\n",
    "    print(\"Age is not 15\")\n",
    "elif age == 15:\n",
    "    print(\"Age is 15\")\n",
    "else:\n",
    "    print(\"Age is not above 16\")"
   ]
  },
  {
   "cell_type": "code",
   "execution_count": 16,
   "id": "c529f7fc-f7a4-45c2-b1fb-8f7dbb0a440b",
   "metadata": {},
   "outputs": [
    {
     "name": "stdout",
     "output_type": "stream",
     "text": [
      "Age is 15\n"
     ]
    }
   ],
   "source": [
    "age = 15\n",
    "\n",
    "if age > 16 and age == 15:\n",
    "    print(\"Age is above 16\")\n",
    "elif age != 15:\n",
    "    print(\"Age is not 15\")\n",
    "elif age == 15:\n",
    "    print(\"Age is 15\")\n",
    "else:\n",
    "    print(\"Age is not above 16\")"
   ]
  },
  {
   "cell_type": "code",
   "execution_count": 18,
   "id": "5e684ad1-cfa9-4cf8-b497-bbd5846823c5",
   "metadata": {},
   "outputs": [
    {
     "name": "stdout",
     "output_type": "stream",
     "text": [
      "1\n",
      "3\n",
      "5\n",
      "7\n",
      "9\n"
     ]
    }
   ],
   "source": [
    "# loops ,for & while loop\n",
    "\n",
    "num = (1, 3, 5, 7, 9)\n",
    "\n",
    "print(num[0])\n",
    "print(num[1])\n",
    "print(num[2])\n",
    "print(num[3])\n",
    "print(num[4])"
   ]
  },
  {
   "cell_type": "code",
   "execution_count": 19,
   "id": "edaa875d-bfee-495e-8c18-64bc461090ff",
   "metadata": {},
   "outputs": [
    {
     "name": "stdout",
     "output_type": "stream",
     "text": [
      "1\n",
      "3\n",
      "5\n",
      "7\n",
      "9\n"
     ]
    }
   ],
   "source": [
    "for i in num:\n",
    "    print(i)"
   ]
  },
  {
   "cell_type": "code",
   "execution_count": 20,
   "id": "db24031b-af4d-4660-8626-ba36755a70c5",
   "metadata": {},
   "outputs": [
    {
     "name": "stdout",
     "output_type": "stream",
     "text": [
      "10\n",
      "11\n",
      "12\n",
      "13\n",
      "14\n",
      "15\n",
      "16\n",
      "17\n",
      "18\n",
      "19\n"
     ]
    }
   ],
   "source": [
    "for i in range(10, 20):\n",
    "    print(i)"
   ]
  },
  {
   "cell_type": "code",
   "execution_count": 21,
   "id": "950b2bca-87d5-4c90-bae1-b6e4178c2d77",
   "metadata": {},
   "outputs": [
    {
     "name": "stdout",
     "output_type": "stream",
     "text": [
      "0\n",
      "1\n",
      "2\n",
      "3\n",
      "4\n",
      "5\n"
     ]
    }
   ],
   "source": [
    "for i in range(0, 6):\n",
    "    print(i)"
   ]
  },
  {
   "cell_type": "markdown",
   "id": "cb8dd0b4-b049-44f0-b9f4-65f13b37ebc6",
   "metadata": {},
   "source": [
    "<img src=\"https://s3-api.us-geo.objectstorage.softlayer.net/cf-courses-data/CognitiveClass/PY0101EN/Chapter%203/Images/LoopsForRange.gif\" width=\"800\" />\n"
   ]
  },
  {
   "cell_type": "code",
   "execution_count": 22,
   "id": "b58093aa-8414-4e43-88c1-4af611544aa4",
   "metadata": {},
   "outputs": [
    {
     "name": "stdout",
     "output_type": "stream",
     "text": [
      "1982\n",
      "1980\n",
      "1973\n"
     ]
    }
   ],
   "source": [
    "dates = [1982, 1980, 1973]\n",
    "\n",
    "for year in dates:\n",
    "    print(year)"
   ]
  },
  {
   "cell_type": "code",
   "execution_count": 28,
   "id": "02f5f459-b830-48e3-bda2-9551aed9a5d9",
   "metadata": {},
   "outputs": [
    {
     "name": "stdout",
     "output_type": "stream",
     "text": [
      "1\n",
      "2\n",
      "3\n",
      "4\n"
     ]
    }
   ],
   "source": [
    "# while loop\n",
    "\n",
    "num2 = [1, 2, 3, 4, 5, 6, 7, 8, 9]\n",
    "i = 0\n",
    "number = 0\n",
    "\n",
    "while number != 4:\n",
    "    number = num2[i]\n",
    "    print(number)\n",
    "    i += 1"
   ]
  },
  {
   "cell_type": "code",
   "execution_count": 29,
   "id": "d3179e71-3975-486e-9ff8-249ffd5582c6",
   "metadata": {},
   "outputs": [
    {
     "name": "stdout",
     "output_type": "stream",
     "text": [
      "1\n",
      "2\n",
      "3\n",
      "4\n"
     ]
    }
   ],
   "source": [
    "# while loop\n",
    "\n",
    "num2 = [1, 2, 3, 4, 5, 6, 7, 8, 9]\n",
    "i = 0\n",
    "number = 0\n",
    "\n",
    "while number != 4:\n",
    "    number = num2[i]\n",
    "    print(number)\n",
    "    i += 1"
   ]
  },
  {
   "cell_type": "code",
   "execution_count": 32,
   "id": "a057ae19-fe8f-4d0f-a06e-54c8b873361e",
   "metadata": {},
   "outputs": [
    {
     "name": "stdout",
     "output_type": "stream",
     "text": [
      "1\n",
      "2\n",
      "3\n",
      "4\n"
     ]
    }
   ],
   "source": [
    "# while loop\n",
    "\n",
    "num2 = [1, 2, 3, 4, 5, 6, 7, 8, 9]\n",
    "i = 0\n",
    "number = 0\n",
    "\n",
    "while number != 4:\n",
    "    number = num2[i]\n",
    "    print(number)\n",
    "    i += 1"
   ]
  },
  {
   "cell_type": "code",
   "execution_count": 33,
   "id": "0bfe481f-f5d1-45b9-b4d4-76006ce1f8f9",
   "metadata": {},
   "outputs": [],
   "source": [
    "# functions\n",
    "\n",
    "def test():\n",
    "    print(\"my 1st function\")"
   ]
  },
  {
   "cell_type": "code",
   "execution_count": 34,
   "id": "ec67a315-4ea0-4fe1-ad24-3caa3b9593c2",
   "metadata": {},
   "outputs": [
    {
     "name": "stdout",
     "output_type": "stream",
     "text": [
      "my 1st function\n"
     ]
    }
   ],
   "source": [
    "test()"
   ]
  },
  {
   "cell_type": "code",
   "execution_count": 35,
   "id": "c58fc2e4-1120-41e7-bf3c-cca692d7cd4d",
   "metadata": {},
   "outputs": [],
   "source": [
    "def sumnum(a, b):\n",
    "    c = a + b\n",
    "    print(c)"
   ]
  },
  {
   "cell_type": "code",
   "execution_count": 37,
   "id": "8c8f880d-aeec-416d-aba8-3045a0bcb4de",
   "metadata": {},
   "outputs": [
    {
     "name": "stdout",
     "output_type": "stream",
     "text": [
      "30\n"
     ]
    }
   ],
   "source": [
    "sumnum(10, 20)"
   ]
  },
  {
   "cell_type": "code",
   "execution_count": 38,
   "id": "ecd4db1b-96ba-4561-b59b-28d322483fa4",
   "metadata": {},
   "outputs": [],
   "source": [
    "def testing(a, b, c):\n",
    "    d = (a*b*c)+a+b+c\n",
    "    print(d)\n",
    "\n"
   ]
  },
  {
   "cell_type": "code",
   "execution_count": 39,
   "id": "4f1d113d-894a-45a6-ae31-251e039911b2",
   "metadata": {},
   "outputs": [
    {
     "name": "stdout",
     "output_type": "stream",
     "text": [
      "1111\n"
     ]
    }
   ],
   "source": [
    "testing(1, 10, 100)"
   ]
  },
  {
   "cell_type": "code",
   "execution_count": 41,
   "id": "0eb4d14f-b7b9-4b56-bc21-531d33a39dbe",
   "metadata": {},
   "outputs": [
    {
     "name": "stdout",
     "output_type": "stream",
     "text": [
      "99, is the largest value\n"
     ]
    }
   ],
   "source": [
    "x = [12, -3, 99 ,10]\n",
    "\n",
    "def largenum(x):\n",
    "    largest = x[0]\n",
    "    for i in range(len(x)):\n",
    "        if x[i] > largest:\n",
    "            largest = x[i]\n",
    "            \n",
    "    print(f\"{largest}, is the largest value\")\n",
    "    \n",
    "largenum(x)"
   ]
  },
  {
   "cell_type": "code",
   "execution_count": 42,
   "id": "f1a43617-717a-4ddc-9597-31139b4a6bca",
   "metadata": {},
   "outputs": [
    {
     "name": "stdout",
     "output_type": "stream",
     "text": [
      "100, is the largest value\n"
     ]
    }
   ],
   "source": [
    "listofum = [4, 5, 9, 100, 0, 8.8, 99]\n",
    "\n",
    "largenum(listofum)"
   ]
  },
  {
   "cell_type": "code",
   "execution_count": 49,
   "id": "5da37a5e-b61b-479d-9a95-6a12757123b5",
   "metadata": {},
   "outputs": [],
   "source": [
    "x = [12, -3, 99 ,10]\n",
    "\n",
    "def ansnum(x):\n",
    "    lowest = x[0]\n",
    "    largest = x[0]\n",
    "    for i in range(len(x)):\n",
    "        if x[i] > largest:\n",
    "            largest = x[i]\n",
    "        if x[i] < lowest:\n",
    "            lowest = x[i]            \n",
    "#     for i in range(len(x)):\n",
    "#         if x[i] < lowest:\n",
    "#             lowest = x[i]\n",
    "    print(f\"{lowest}, is the lowest value and {largest}, is the largest value\")"
   ]
  },
  {
   "cell_type": "code",
   "execution_count": 50,
   "id": "b0d532c9-06de-4adb-a4d0-42522ba68937",
   "metadata": {},
   "outputs": [
    {
     "name": "stdout",
     "output_type": "stream",
     "text": [
      "-3, is the lowest value and 99, is the largest value\n"
     ]
    }
   ],
   "source": [
    "ansnum(x)\n"
   ]
  },
  {
   "cell_type": "code",
   "execution_count": 52,
   "id": "eff2e42c-e1c6-4a84-83dd-5545542a1e01",
   "metadata": {},
   "outputs": [
    {
     "name": "stdout",
     "output_type": "stream",
     "text": [
      "-99, is the lowest value and 1000, is the largest value\n"
     ]
    }
   ],
   "source": [
    "gg = [1, -99, 99 ,1000, -1]\n",
    "\n",
    "ansnum(gg)"
   ]
  },
  {
   "cell_type": "code",
   "execution_count": null,
   "id": "29565f3b-28ad-4c60-a048-877684ff517b",
   "metadata": {},
   "outputs": [],
   "source": []
  },
  {
   "cell_type": "code",
   "execution_count": null,
   "id": "3423b7be-a7fb-4079-8a83-72a8630ef65e",
   "metadata": {},
   "outputs": [],
   "source": []
  }
 ],
 "metadata": {
  "kernelspec": {
   "display_name": "Python",
   "language": "python",
   "name": "conda-env-python-py"
  },
  "language_info": {
   "codemirror_mode": {
    "name": "ipython",
    "version": 3
   },
   "file_extension": ".py",
   "mimetype": "text/x-python",
   "name": "python",
   "nbconvert_exporter": "python",
   "pygments_lexer": "ipython3",
   "version": "3.6.13"
  }
 },
 "nbformat": 4,
 "nbformat_minor": 5
}
