{
 "cells": [
  {
   "cell_type": "code",
   "execution_count": 6,
   "id": "5f23814c-b6a6-43cc-95c0-6f31917ecc3b",
   "metadata": {},
   "outputs": [
    {
     "name": "stdout",
     "output_type": "stream",
     "text": [
      "yong\n"
     ]
    }
   ],
   "source": [
    "print(\"yong\")"
   ]
  },
  {
   "cell_type": "code",
   "execution_count": 15,
   "id": "cc2a021d-2375-48c9-9a61-63cd31711339",
   "metadata": {},
   "outputs": [
    {
     "data": {
      "text/plain": [
       "25"
      ]
     },
     "execution_count": 15,
     "metadata": {},
     "output_type": "execute_result"
    }
   ],
   "source": [
    "11 + 14"
   ]
  },
  {
   "cell_type": "markdown",
   "id": "a47c9eea-1daf-46ff-bfab-4e59d6288c77",
   "metadata": {},
   "source": [
    "calculation formula"
   ]
  },
  {
   "cell_type": "code",
   "execution_count": 13,
   "id": "a5c8ab85-f0f1-4149-8092-f6d3c19551a0",
   "metadata": {},
   "outputs": [
    {
     "data": {
      "text/plain": [
       "40"
      ]
     },
     "execution_count": 13,
     "metadata": {},
     "output_type": "execute_result"
    }
   ],
   "source": [
    "10 * 4"
   ]
  },
  {
   "cell_type": "code",
   "execution_count": 20,
   "id": "0c34b222-df0e-4436-a84c-7ddc9ee55fe8",
   "metadata": {},
   "outputs": [
    {
     "name": "stdout",
     "output_type": "stream",
     "text": [
      "72\n"
     ]
    }
   ],
   "source": [
    "a = 11\n",
    "b = 6\n",
    "d = a + 1\n",
    "c = d * b\n",
    "\n",
    "print(c)"
   ]
  },
  {
   "cell_type": "code",
   "execution_count": 21,
   "id": "e74714e9-f96a-4223-8a58-4d72f15bfb7c",
   "metadata": {},
   "outputs": [
    {
     "data": {
      "text/plain": [
       "72"
      ]
     },
     "execution_count": 21,
     "metadata": {},
     "output_type": "execute_result"
    }
   ],
   "source": [
    "c"
   ]
  },
  {
   "cell_type": "code",
   "execution_count": 22,
   "id": "000348e8-c3d8-478d-8998-3cab7e28b3a7",
   "metadata": {},
   "outputs": [
    {
     "data": {
      "text/plain": [
       "11"
      ]
     },
     "execution_count": 22,
     "metadata": {},
     "output_type": "execute_result"
    }
   ],
   "source": [
    "a"
   ]
  },
  {
   "cell_type": "code",
   "execution_count": 29,
   "id": "29efd2b0-5148-42f6-afdf-a046afffda8d",
   "metadata": {},
   "outputs": [],
   "source": [
    "a = 12"
   ]
  },
  {
   "cell_type": "code",
   "execution_count": 30,
   "id": "018f675d-b735-4ce9-a6c7-dd83d998a9d6",
   "metadata": {},
   "outputs": [
    {
     "data": {
      "text/plain": [
       "12"
      ]
     },
     "execution_count": 30,
     "metadata": {},
     "output_type": "execute_result"
    }
   ],
   "source": [
    "a"
   ]
  },
  {
   "cell_type": "code",
   "execution_count": 31,
   "id": "89b061fd-098d-4d99-98a6-e6600ff628d3",
   "metadata": {},
   "outputs": [
    {
     "name": "stdout",
     "output_type": "stream",
     "text": [
      "78\n"
     ]
    }
   ],
   "source": [
    "b = 6\n",
    "d = a + 1\n",
    "c = d * b\n",
    "\n",
    "print(c)"
   ]
  },
  {
   "cell_type": "code",
   "execution_count": 32,
   "id": "a0802a83-189b-49a9-8424-238635939f13",
   "metadata": {},
   "outputs": [
    {
     "data": {
      "text/plain": [
       "<bound method NDFrame.head of    E1001     John   Thomas  123456  ...  100 100000  30001  2\n",
       "0  E1002    Alice    James  123457  ...  200  80000  30002  5\n",
       "1  E1003    Steve    Wells  123458  ...  300  50000  30002  5\n",
       "2  E1004  Santosh    Kumar  123459  ...  400  60000  30004  5\n",
       "3  E1005    Ahmed  Hussain  123410  ...  500  70000  30001  2\n",
       "4  E1006    Nancy    Allen  123411  ...  600  90000  30001  2\n",
       "5  E1007     Mary   Thomas  123412  ...  650  65000  30003  7\n",
       "6  E1008  Bharath    Gupta  123413  ...  660  65000  30003  7\n",
       "7  E1009   Andrea    Jones  123414  ...  234  70000  30003  7\n",
       "8  E1010      Ann    Jacob  123415  ...  220  70000  30004  5\n",
       "\n",
       "[9 rows x 11 columns]>"
      ]
     },
     "execution_count": 32,
     "metadata": {},
     "output_type": "execute_result"
    }
   ],
   "source": [
    "import pandas as pd\n",
    "\n",
    "data = pd.read_csv(\"Employees.csv\")\n",
    "\n",
    "data.head\n"
   ]
  },
  {
   "cell_type": "code",
   "execution_count": 33,
   "id": "b29ff342-3cd9-4490-9e2c-af1d21ff75ef",
   "metadata": {},
   "outputs": [
    {
     "data": {
      "text/html": [
       "<div>\n",
       "<style scoped>\n",
       "    .dataframe tbody tr th:only-of-type {\n",
       "        vertical-align: middle;\n",
       "    }\n",
       "\n",
       "    .dataframe tbody tr th {\n",
       "        vertical-align: top;\n",
       "    }\n",
       "\n",
       "    .dataframe thead th {\n",
       "        text-align: right;\n",
       "    }\n",
       "</style>\n",
       "<table border=\"1\" class=\"dataframe\">\n",
       "  <thead>\n",
       "    <tr style=\"text-align: right;\">\n",
       "      <th></th>\n",
       "      <th>E1001</th>\n",
       "      <th>John</th>\n",
       "      <th>Thomas</th>\n",
       "      <th>123456</th>\n",
       "      <th>01/09/1976</th>\n",
       "      <th>M</th>\n",
       "      <th>5631 Rice, OakPark,IL</th>\n",
       "      <th>100</th>\n",
       "      <th>100000</th>\n",
       "      <th>30001</th>\n",
       "      <th>2</th>\n",
       "    </tr>\n",
       "  </thead>\n",
       "  <tbody>\n",
       "    <tr>\n",
       "      <th>0</th>\n",
       "      <td>E1002</td>\n",
       "      <td>Alice</td>\n",
       "      <td>James</td>\n",
       "      <td>123457</td>\n",
       "      <td>07/31/1972</td>\n",
       "      <td>F</td>\n",
       "      <td>980 Berry ln, Elgin,IL</td>\n",
       "      <td>200</td>\n",
       "      <td>80000</td>\n",
       "      <td>30002</td>\n",
       "      <td>5</td>\n",
       "    </tr>\n",
       "    <tr>\n",
       "      <th>1</th>\n",
       "      <td>E1003</td>\n",
       "      <td>Steve</td>\n",
       "      <td>Wells</td>\n",
       "      <td>123458</td>\n",
       "      <td>08/10/1980</td>\n",
       "      <td>M</td>\n",
       "      <td>291 Springs, Gary,IL</td>\n",
       "      <td>300</td>\n",
       "      <td>50000</td>\n",
       "      <td>30002</td>\n",
       "      <td>5</td>\n",
       "    </tr>\n",
       "    <tr>\n",
       "      <th>2</th>\n",
       "      <td>E1004</td>\n",
       "      <td>Santosh</td>\n",
       "      <td>Kumar</td>\n",
       "      <td>123459</td>\n",
       "      <td>07/20/1985</td>\n",
       "      <td>M</td>\n",
       "      <td>511 Aurora Av, Aurora,IL</td>\n",
       "      <td>400</td>\n",
       "      <td>60000</td>\n",
       "      <td>30004</td>\n",
       "      <td>5</td>\n",
       "    </tr>\n",
       "    <tr>\n",
       "      <th>3</th>\n",
       "      <td>E1005</td>\n",
       "      <td>Ahmed</td>\n",
       "      <td>Hussain</td>\n",
       "      <td>123410</td>\n",
       "      <td>01/04/1981</td>\n",
       "      <td>M</td>\n",
       "      <td>216 Oak Tree, Geneva,IL</td>\n",
       "      <td>500</td>\n",
       "      <td>70000</td>\n",
       "      <td>30001</td>\n",
       "      <td>2</td>\n",
       "    </tr>\n",
       "    <tr>\n",
       "      <th>4</th>\n",
       "      <td>E1006</td>\n",
       "      <td>Nancy</td>\n",
       "      <td>Allen</td>\n",
       "      <td>123411</td>\n",
       "      <td>02/06/1978</td>\n",
       "      <td>F</td>\n",
       "      <td>111 Green Pl, Elgin,IL</td>\n",
       "      <td>600</td>\n",
       "      <td>90000</td>\n",
       "      <td>30001</td>\n",
       "      <td>2</td>\n",
       "    </tr>\n",
       "  </tbody>\n",
       "</table>\n",
       "</div>"
      ],
      "text/plain": [
       "   E1001     John   Thomas  123456  ...  100 100000  30001  2\n",
       "0  E1002    Alice    James  123457  ...  200  80000  30002  5\n",
       "1  E1003    Steve    Wells  123458  ...  300  50000  30002  5\n",
       "2  E1004  Santosh    Kumar  123459  ...  400  60000  30004  5\n",
       "3  E1005    Ahmed  Hussain  123410  ...  500  70000  30001  2\n",
       "4  E1006    Nancy    Allen  123411  ...  600  90000  30001  2\n",
       "\n",
       "[5 rows x 11 columns]"
      ]
     },
     "execution_count": 33,
     "metadata": {},
     "output_type": "execute_result"
    }
   ],
   "source": [
    "data.head()"
   ]
  },
  {
   "cell_type": "markdown",
   "id": "bc41bf3d-4323-46bd-a1c7-f18d1ee64b65",
   "metadata": {},
   "source": [
    "# Data (Header1)\n",
    "## Data (Header2)\n",
    "### Data (Header3)\n",
    "#### Data (Header4)\n",
    "##### Data (Header5)\n",
    "###### Data (Header6)"
   ]
  },
  {
   "cell_type": "markdown",
   "id": "d0ab1967-1c95-47c5-b1c0-6f1501d55862",
   "metadata": {},
   "source": [
    "### italic\n",
    "*ABCD*<br>\n",
    "_ABCD_"
   ]
  },
  {
   "cell_type": "markdown",
   "id": "a03061c6-5d3d-46d4-9505-0d5871ee7d32",
   "metadata": {},
   "source": [
    "#### Bold\n",
    "**ABCD**\n",
    "** ABCD **\n",
    "\n",
    "#### Bold + Italic\n",
    "***ABCD***"
   ]
  },
  {
   "cell_type": "markdown",
   "id": "98062527-d7f3-47c0-82a3-6681e448dd8f",
   "metadata": {},
   "source": [
    "#### List\n",
    "1. ABCD\n",
    "2.ABCD\n",
    "\n",
    "* ABCD\n",
    "*ABCD"
   ]
  },
  {
   "cell_type": "markdown",
   "id": "1af2f7f4-bc41-4312-8800-59bbd62227e7",
   "metadata": {},
   "source": [
    "#### Url\n",
    "[Click Me](https://www.google.com)\n",
    "\n",
    "#### Image\n",
    "![ABCD](data_science_methodolog.jpg)\n",
    "![Google](http://www.google.com.au/images/nav_logo7.png)\n",
    "\n",
    "\n",
    "#### Url + Image\n",
    "[![Google](http://www.google.com.au/images/nav_logo7.png)](https://www.google.com)"
   ]
  },
  {
   "cell_type": "code",
   "execution_count": null,
   "id": "c9146ede-cf2d-48e3-b298-0f4ca5075ccb",
   "metadata": {},
   "outputs": [],
   "source": []
  },
  {
   "cell_type": "code",
   "execution_count": null,
   "id": "ca1b347e-47f6-4666-a04f-318cb54562fc",
   "metadata": {},
   "outputs": [],
   "source": []
  }
 ],
 "metadata": {
  "kernelspec": {
   "display_name": "Python",
   "language": "python",
   "name": "conda-env-python-py"
  },
  "language_info": {
   "codemirror_mode": {
    "name": "ipython",
    "version": 3
   },
   "file_extension": ".py",
   "mimetype": "text/x-python",
   "name": "python",
   "nbconvert_exporter": "python",
   "pygments_lexer": "ipython3",
   "version": "3.6.13"
  }
 },
 "nbformat": 4,
 "nbformat_minor": 5
}
