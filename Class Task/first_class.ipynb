{
 "cells": [
  {
   "cell_type": "code",
   "execution_count": 1,
   "id": "9bf79234-faf9-4ad5-abbc-779124c78a01",
   "metadata": {},
   "outputs": [
    {
     "name": "stdout",
     "output_type": "stream",
     "text": [
      "Hello Data Science\n"
     ]
    }
   ],
   "source": [
    "print(\"Hello Data Science\")"
   ]
  },
  {
   "cell_type": "code",
   "execution_count": 3,
   "id": "6b3d3753-cc08-4ee0-9199-7ea1f4075721",
   "metadata": {},
   "outputs": [
    {
     "data": {
      "text/plain": [
       "13"
      ]
     },
     "execution_count": 3,
     "metadata": {},
     "output_type": "execute_result"
    }
   ],
   "source": [
    "5+8"
   ]
  },
  {
   "cell_type": "code",
   "execution_count": 4,
   "id": "d6ba4277-a2eb-4043-9e08-023b08a720a9",
   "metadata": {},
   "outputs": [
    {
     "data": {
      "text/plain": [
       "20"
      ]
     },
     "execution_count": 4,
     "metadata": {},
     "output_type": "execute_result"
    }
   ],
   "source": [
    "10*2"
   ]
  },
  {
   "cell_type": "code",
   "execution_count": 5,
   "id": "79ef6deb-2393-4bf5-8479-e9187186e75c",
   "metadata": {},
   "outputs": [
    {
     "name": "stdout",
     "output_type": "stream",
     "text": [
      "20\n"
     ]
    }
   ],
   "source": [
    "a = 10 \n",
    "b = 2\n",
    "c = a*b\n",
    "\n",
    "print(c)"
   ]
  },
  {
   "cell_type": "code",
   "execution_count": 6,
   "id": "daf2cd80-77db-4d62-8f68-f6443181d97b",
   "metadata": {},
   "outputs": [
    {
     "data": {
      "text/plain": [
       "20"
      ]
     },
     "execution_count": 6,
     "metadata": {},
     "output_type": "execute_result"
    }
   ],
   "source": [
    "c"
   ]
  },
  {
   "cell_type": "code",
   "execution_count": 7,
   "id": "06e190bb-b9dc-46ce-b04c-f623da10f85f",
   "metadata": {},
   "outputs": [
    {
     "data": {
      "text/html": [
       "<div>\n",
       "<style scoped>\n",
       "    .dataframe tbody tr th:only-of-type {\n",
       "        vertical-align: middle;\n",
       "    }\n",
       "\n",
       "    .dataframe tbody tr th {\n",
       "        vertical-align: top;\n",
       "    }\n",
       "\n",
       "    .dataframe thead th {\n",
       "        text-align: right;\n",
       "    }\n",
       "</style>\n",
       "<table border=\"1\" class=\"dataframe\">\n",
       "  <thead>\n",
       "    <tr style=\"text-align: right;\">\n",
       "      <th></th>\n",
       "      <th>E1001</th>\n",
       "      <th>John</th>\n",
       "      <th>Thomas</th>\n",
       "      <th>123456</th>\n",
       "      <th>01/09/1976</th>\n",
       "      <th>M</th>\n",
       "      <th>5631 Rice, OakPark,IL</th>\n",
       "      <th>100</th>\n",
       "      <th>100000</th>\n",
       "      <th>30001</th>\n",
       "      <th>2</th>\n",
       "    </tr>\n",
       "  </thead>\n",
       "  <tbody>\n",
       "    <tr>\n",
       "      <th>0</th>\n",
       "      <td>E1002</td>\n",
       "      <td>Alice</td>\n",
       "      <td>James</td>\n",
       "      <td>123457</td>\n",
       "      <td>07/31/1972</td>\n",
       "      <td>F</td>\n",
       "      <td>980 Berry ln, Elgin,IL</td>\n",
       "      <td>200</td>\n",
       "      <td>80000</td>\n",
       "      <td>30002</td>\n",
       "      <td>5</td>\n",
       "    </tr>\n",
       "    <tr>\n",
       "      <th>1</th>\n",
       "      <td>E1003</td>\n",
       "      <td>Steve</td>\n",
       "      <td>Wells</td>\n",
       "      <td>123458</td>\n",
       "      <td>08/10/1980</td>\n",
       "      <td>M</td>\n",
       "      <td>291 Springs, Gary,IL</td>\n",
       "      <td>300</td>\n",
       "      <td>50000</td>\n",
       "      <td>30002</td>\n",
       "      <td>5</td>\n",
       "    </tr>\n",
       "    <tr>\n",
       "      <th>2</th>\n",
       "      <td>E1004</td>\n",
       "      <td>Santosh</td>\n",
       "      <td>Kumar</td>\n",
       "      <td>123459</td>\n",
       "      <td>07/20/1985</td>\n",
       "      <td>M</td>\n",
       "      <td>511 Aurora Av, Aurora,IL</td>\n",
       "      <td>400</td>\n",
       "      <td>60000</td>\n",
       "      <td>30004</td>\n",
       "      <td>5</td>\n",
       "    </tr>\n",
       "    <tr>\n",
       "      <th>3</th>\n",
       "      <td>E1005</td>\n",
       "      <td>Ahmed</td>\n",
       "      <td>Hussain</td>\n",
       "      <td>123410</td>\n",
       "      <td>01/04/1981</td>\n",
       "      <td>M</td>\n",
       "      <td>216 Oak Tree, Geneva,IL</td>\n",
       "      <td>500</td>\n",
       "      <td>70000</td>\n",
       "      <td>30001</td>\n",
       "      <td>2</td>\n",
       "    </tr>\n",
       "    <tr>\n",
       "      <th>4</th>\n",
       "      <td>E1006</td>\n",
       "      <td>Nancy</td>\n",
       "      <td>Allen</td>\n",
       "      <td>123411</td>\n",
       "      <td>02/06/1978</td>\n",
       "      <td>F</td>\n",
       "      <td>111 Green Pl, Elgin,IL</td>\n",
       "      <td>600</td>\n",
       "      <td>90000</td>\n",
       "      <td>30001</td>\n",
       "      <td>2</td>\n",
       "    </tr>\n",
       "  </tbody>\n",
       "</table>\n",
       "</div>"
      ],
      "text/plain": [
       "   E1001     John   Thomas  123456  ...  100 100000  30001  2\n",
       "0  E1002    Alice    James  123457  ...  200  80000  30002  5\n",
       "1  E1003    Steve    Wells  123458  ...  300  50000  30002  5\n",
       "2  E1004  Santosh    Kumar  123459  ...  400  60000  30004  5\n",
       "3  E1005    Ahmed  Hussain  123410  ...  500  70000  30001  2\n",
       "4  E1006    Nancy    Allen  123411  ...  600  90000  30001  2\n",
       "\n",
       "[5 rows x 11 columns]"
      ]
     },
     "execution_count": 7,
     "metadata": {},
     "output_type": "execute_result"
    }
   ],
   "source": [
    "import pandas as pd\n",
    "\n",
    "mydata = pd.read_csv(\"Employees.csv\")\n",
    "\n",
    "mydata.head()"
   ]
  },
  {
   "cell_type": "markdown",
   "id": "ba50289b-ff81-40d0-af4b-fc02f2f34436",
   "metadata": {},
   "source": [
    "# Data Science and Analytics\n",
    "## Big Data Science\n",
    "### Python Coding\n",
    "#### Data Analysis\n"
   ]
  },
  {
   "cell_type": "markdown",
   "id": "1af9b4e8-9136-4df8-827a-3da39926d24e",
   "metadata": {},
   "source": [
    "*Data Science*"
   ]
  },
  {
   "cell_type": "markdown",
   "id": "8ea8a751-fd79-47b0-879d-202746a66c91",
   "metadata": {},
   "source": [
    "**data science**"
   ]
  },
  {
   "cell_type": "markdown",
   "id": "611177f3-8110-4b45-979f-26a537ffe7c5",
   "metadata": {},
   "source": [
    "**_data Science_**"
   ]
  },
  {
   "cell_type": "markdown",
   "id": "a168a9aa-57b3-48c0-be9b-a541b2810951",
   "metadata": {},
   "source": [
    "1. Data\n",
    "2. Code\n",
    "3. Analysis\n"
   ]
  },
  {
   "cell_type": "markdown",
   "id": "21be4f4b-747e-4e16-9e23-e0dab47edca8",
   "metadata": {
    "tags": []
   },
   "source": [
    "* Data\n",
    "- Code\n",
    "* Data"
   ]
  },
  {
   "cell_type": "code",
   "execution_count": null,
   "id": "6f4b9d72-5674-40a8-8a49-140d8df6a5be",
   "metadata": {},
   "outputs": [],
   "source": []
  },
  {
   "cell_type": "markdown",
   "id": "e701d569-e308-4bad-a224-1abcc6c40d35",
   "metadata": {},
   "source": [
    "[Click Me](https://github.com/adam-p/markdown-here/wiki/Markdown-Cheatsheet)"
   ]
  },
  {
   "cell_type": "markdown",
   "id": "6de96536-1f41-4130-89ce-cd04ca674adf",
   "metadata": {},
   "source": [
    "[Click 2](https://www.ibm.com/docs/en/watson-studio-local/1.2.3?topic=notebooks-markdown-jupyter-cheatsheet)"
   ]
  },
  {
   "cell_type": "markdown",
   "id": "621455d8-ee04-4231-9cbd-72be957e2585",
   "metadata": {},
   "source": [
    "![Image](lovers.jpg)"
   ]
  },
  {
   "cell_type": "markdown",
   "id": "6020f11b-3ac0-4c01-959b-d8542959b82a",
   "metadata": {},
   "source": [
    "![Image](data_science_methodolog.jpg)"
   ]
  },
  {
   "cell_type": "markdown",
   "id": "7f9371ae-fbec-4c99-afd2-fa36fd9faefc",
   "metadata": {},
   "source": [
    "[![Google](http://www.google.com.au/images/nav_logo7.png)](http://google.com.au/)"
   ]
  },
  {
   "cell_type": "code",
   "execution_count": null,
   "id": "439026eb-8912-48be-9033-df8f4007e768",
   "metadata": {},
   "outputs": [],
   "source": []
  }
 ],
 "metadata": {
  "kernelspec": {
   "display_name": "Python",
   "language": "python",
   "name": "conda-env-python-py"
  },
  "language_info": {
   "codemirror_mode": {
    "name": "ipython",
    "version": 3
   },
   "file_extension": ".py",
   "mimetype": "text/x-python",
   "name": "python",
   "nbconvert_exporter": "python",
   "pygments_lexer": "ipython3",
   "version": "3.6.13"
  }
 },
 "nbformat": 4,
 "nbformat_minor": 5
}
